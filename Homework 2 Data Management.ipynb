{
 "cells": [
  {
   "cell_type": "markdown",
   "id": "6aac994c",
   "metadata": {},
   "source": [
    "# Homework 2 Data Management"
   ]
  },
  {
   "cell_type": "markdown",
   "id": "9fd50ef2",
   "metadata": {},
   "source": [
    "In this homework assignment, we will use a dataset about students’ adaptability to online education in school. First, load the data. The dataset has been uploaded to the homework page of Canvas."
   ]
  },
  {
   "cell_type": "code",
   "execution_count": 1,
   "id": "df6dae30",
   "metadata": {},
   "outputs": [
    {
     "data": {
      "text/html": [
       "<div>\n",
       "<style scoped>\n",
       "    .dataframe tbody tr th:only-of-type {\n",
       "        vertical-align: middle;\n",
       "    }\n",
       "\n",
       "    .dataframe tbody tr th {\n",
       "        vertical-align: top;\n",
       "    }\n",
       "\n",
       "    .dataframe thead th {\n",
       "        text-align: right;\n",
       "    }\n",
       "</style>\n",
       "<table border=\"1\" class=\"dataframe\">\n",
       "  <thead>\n",
       "    <tr style=\"text-align: right;\">\n",
       "      <th></th>\n",
       "      <th>Gender</th>\n",
       "      <th>Age</th>\n",
       "      <th>Education Level</th>\n",
       "      <th>Institution Type</th>\n",
       "      <th>IT Student</th>\n",
       "      <th>Location</th>\n",
       "      <th>Load-shedding</th>\n",
       "      <th>Financial Condition</th>\n",
       "      <th>Internet Type</th>\n",
       "      <th>Network Type</th>\n",
       "      <th>Class Duration</th>\n",
       "      <th>Self Lms</th>\n",
       "      <th>Device</th>\n",
       "      <th>Adaptivity Level</th>\n",
       "    </tr>\n",
       "  </thead>\n",
       "  <tbody>\n",
       "    <tr>\n",
       "      <th>0</th>\n",
       "      <td>Boy</td>\n",
       "      <td>21-25</td>\n",
       "      <td>University</td>\n",
       "      <td>Non Government</td>\n",
       "      <td>No</td>\n",
       "      <td>Yes</td>\n",
       "      <td>Low</td>\n",
       "      <td>Mid</td>\n",
       "      <td>Wifi</td>\n",
       "      <td>4G</td>\n",
       "      <td>3-6</td>\n",
       "      <td>No</td>\n",
       "      <td>Tab</td>\n",
       "      <td>Moderate</td>\n",
       "    </tr>\n",
       "    <tr>\n",
       "      <th>1</th>\n",
       "      <td>Girl</td>\n",
       "      <td>21-25</td>\n",
       "      <td>University</td>\n",
       "      <td>Non Government</td>\n",
       "      <td>No</td>\n",
       "      <td>Yes</td>\n",
       "      <td>High</td>\n",
       "      <td>Mid</td>\n",
       "      <td>Mobile Data</td>\n",
       "      <td>4G</td>\n",
       "      <td>1-3</td>\n",
       "      <td>Yes</td>\n",
       "      <td>Mobile</td>\n",
       "      <td>Moderate</td>\n",
       "    </tr>\n",
       "    <tr>\n",
       "      <th>2</th>\n",
       "      <td>Girl</td>\n",
       "      <td>16-20</td>\n",
       "      <td>College</td>\n",
       "      <td>Government</td>\n",
       "      <td>No</td>\n",
       "      <td>Yes</td>\n",
       "      <td>Low</td>\n",
       "      <td>Mid</td>\n",
       "      <td>Wifi</td>\n",
       "      <td>4G</td>\n",
       "      <td>1-3</td>\n",
       "      <td>No</td>\n",
       "      <td>Mobile</td>\n",
       "      <td>Moderate</td>\n",
       "    </tr>\n",
       "    <tr>\n",
       "      <th>3</th>\n",
       "      <td>Girl</td>\n",
       "      <td>11-15</td>\n",
       "      <td>School</td>\n",
       "      <td>Non Government</td>\n",
       "      <td>No</td>\n",
       "      <td>Yes</td>\n",
       "      <td>Low</td>\n",
       "      <td>Mid</td>\n",
       "      <td>Mobile Data</td>\n",
       "      <td>4G</td>\n",
       "      <td>1-3</td>\n",
       "      <td>No</td>\n",
       "      <td>Mobile</td>\n",
       "      <td>Moderate</td>\n",
       "    </tr>\n",
       "    <tr>\n",
       "      <th>4</th>\n",
       "      <td>Girl</td>\n",
       "      <td>16-20</td>\n",
       "      <td>School</td>\n",
       "      <td>Non Government</td>\n",
       "      <td>No</td>\n",
       "      <td>Yes</td>\n",
       "      <td>Low</td>\n",
       "      <td>Poor</td>\n",
       "      <td>Mobile Data</td>\n",
       "      <td>3G</td>\n",
       "      <td>0</td>\n",
       "      <td>No</td>\n",
       "      <td>Mobile</td>\n",
       "      <td>Low</td>\n",
       "    </tr>\n",
       "  </tbody>\n",
       "</table>\n",
       "</div>"
      ],
      "text/plain": [
       "  Gender    Age Education Level Institution Type IT Student Location  \\\n",
       "0    Boy  21-25      University   Non Government         No      Yes   \n",
       "1   Girl  21-25      University   Non Government         No      Yes   \n",
       "2   Girl  16-20         College       Government         No      Yes   \n",
       "3   Girl  11-15          School   Non Government         No      Yes   \n",
       "4   Girl  16-20          School   Non Government         No      Yes   \n",
       "\n",
       "  Load-shedding Financial Condition Internet Type Network Type Class Duration  \\\n",
       "0           Low                 Mid          Wifi           4G            3-6   \n",
       "1          High                 Mid   Mobile Data           4G            1-3   \n",
       "2           Low                 Mid          Wifi           4G            1-3   \n",
       "3           Low                 Mid   Mobile Data           4G            1-3   \n",
       "4           Low                Poor   Mobile Data           3G              0   \n",
       "\n",
       "  Self Lms  Device Adaptivity Level  \n",
       "0       No     Tab         Moderate  \n",
       "1      Yes  Mobile         Moderate  \n",
       "2       No  Mobile         Moderate  \n",
       "3       No  Mobile         Moderate  \n",
       "4       No  Mobile              Low  "
      ]
     },
     "execution_count": 1,
     "metadata": {},
     "output_type": "execute_result"
    }
   ],
   "source": [
    "import pandas as pd\n",
    "\n",
    "data = pd.read_csv('online_adapt.csv')\n",
    "data.head(5)"
   ]
  },
  {
   "cell_type": "code",
   "execution_count": 2,
   "id": "1f3dda50",
   "metadata": {},
   "outputs": [
    {
     "data": {
      "text/plain": [
       "Index(['Gender', 'Age', 'Education Level', 'Institution Type', 'IT Student',\n",
       "       'Location', 'Load-shedding', 'Financial Condition', 'Internet Type',\n",
       "       'Network Type', 'Class Duration', 'Self Lms', 'Device',\n",
       "       'Adaptivity Level'],\n",
       "      dtype='object')"
      ]
     },
     "execution_count": 2,
     "metadata": {},
     "output_type": "execute_result"
    }
   ],
   "source": [
    "data.columns"
   ]
  },
  {
   "cell_type": "code",
   "execution_count": 3,
   "id": "d4ecd78c",
   "metadata": {},
   "outputs": [
    {
     "data": {
      "text/plain": [
       "(1205, 14)"
      ]
     },
     "execution_count": 3,
     "metadata": {},
     "output_type": "execute_result"
    }
   ],
   "source": [
    "data.shape"
   ]
  },
  {
   "cell_type": "markdown",
   "id": "4a482b7f",
   "metadata": {},
   "source": [
    "There is no missing values in the dataset."
   ]
  },
  {
   "cell_type": "code",
   "execution_count": 34,
   "id": "1058006c",
   "metadata": {},
   "outputs": [
    {
     "data": {
      "text/plain": [
       "Gender                 0\n",
       "Age                    0\n",
       "Education Level        0\n",
       "Institution Type       0\n",
       "IT Student             0\n",
       "Location               0\n",
       "Load-shedding          0\n",
       "Financial Condition    0\n",
       "Internet Type          0\n",
       "Network Type           0\n",
       "Class Duration         0\n",
       "Self Lms               0\n",
       "Device                 0\n",
       "Adaptivity Level       0\n",
       "dtype: int64"
      ]
     },
     "execution_count": 34,
     "metadata": {},
     "output_type": "execute_result"
    }
   ],
   "source": [
    "data.isna().sum()"
   ]
  },
  {
   "cell_type": "markdown",
   "id": "750b9bb4",
   "metadata": {},
   "source": [
    "### Q1. (20 points) Understanding the data\n",
    "#### 1.1 (5 points) Display the frequency table for the response variable, `Adaptivity Level`. "
   ]
  },
  {
   "cell_type": "markdown",
   "id": "5e4428f0",
   "metadata": {},
   "source": [
    "#### 1.2 (5 points) Display the frequency table for `Education Level`."
   ]
  },
  {
   "cell_type": "markdown",
   "id": "cf145c16",
   "metadata": {},
   "source": [
    "#### 1.3 (10 points) Write a function to show the unique values of each variable in the dataset.  Then apply this function on the dataset.\n",
    "Note that all variables are categorical. You may imitate the function I defined in the in-class exercise of Section 2.4."
   ]
  },
  {
   "cell_type": "markdown",
   "id": "4f195cdc",
   "metadata": {},
   "source": [
    "### Q2. (30 points) Encode Categorical Variables\n",
    "#### 2.1 (5 points) Which feature variables are ordinal variables?"
   ]
  },
  {
   "cell_type": "markdown",
   "id": "889847b5",
   "metadata": {},
   "source": [
    "#### 2.2 (5 points) Encode `Age` to integers, 1, 2, 3, 4, 5, 6."
   ]
  },
  {
   "cell_type": "markdown",
   "id": "9fe6fa52",
   "metadata": {},
   "source": [
    "#### 2.3 (5 points) Encode `Network Type` to integers, 2, 3, 4."
   ]
  },
  {
   "cell_type": "markdown",
   "id": "2b8b6dac",
   "metadata": {},
   "source": [
    "#### 2.4 (5 points) Encode `Class Duration` to integers, 0, 1, 2."
   ]
  },
  {
   "cell_type": "markdown",
   "id": "86f9c978",
   "metadata": {},
   "source": [
    "#### 2.5 (5 points) Replace `Age`, `Network Type`, `Class Duration` by their corresponding numeric versions."
   ]
  },
  {
   "cell_type": "markdown",
   "id": "1832649d",
   "metadata": {},
   "source": [
    "#### 2.6 (5 points) One-hot encode the rest of the variables except for the response variable, `Adaptivity Level`.\n",
    "* Note that `pd.get_dummies` will only work on categorical varaibles and ignore numeric variables.\n",
    "* Name the data frame `data1`. Note that `data1` should have all the encoded features (without the response variable)."
   ]
  },
  {
   "cell_type": "markdown",
   "id": "c2ec0b42",
   "metadata": {},
   "source": [
    "### Q3. (40 points) Scaling Numeric Variables"
   ]
  },
  {
   "cell_type": "markdown",
   "id": "02c8a9f2",
   "metadata": {},
   "source": [
    "#### 3.1 (5 points) Use `MinMaxScaler` to rescale all variables.\n",
    "Note that you need to apply this scaler to all features in `data1`. The scaled dataset should be called `data2`."
   ]
  },
  {
   "cell_type": "markdown",
   "id": "85b47791",
   "metadata": {},
   "source": [
    "#### 3.2 (5 points) Write a `for` loop to verify that the min is 0 and the max is 1 for each column."
   ]
  },
  {
   "cell_type": "markdown",
   "id": "fcb24de6",
   "metadata": {},
   "source": [
    "#### 3.3 (5 points) Standardizing all features in `data1`. Name the new data frame `data3`."
   ]
  },
  {
   "cell_type": "markdown",
   "id": "743a3fb4",
   "metadata": {},
   "source": [
    "#### 3.4 (5 points) Write a `while` loop to verify the mean is 0 and the standard deviation is 1 for each column."
   ]
  },
  {
   "cell_type": "markdown",
   "id": "de0f771b",
   "metadata": {},
   "source": [
    "#### 3.5 (5 points) Use a robust scaler to rescale all the features in `data1`. Name the new data frame `data4`."
   ]
  },
  {
   "cell_type": "markdown",
   "id": "b4841bf2",
   "metadata": {},
   "source": [
    "#### 3.6 (5 points) Use the `apply` function to verify that the median is 0 for each column after robust scaling.\n",
    "* Note that `data4` is a `ndarray` instead of a data frame. To use the `apply` function, you need to first tranform `data4` to a DataFrame.\n",
    "* Before using the `apply` function, you need to define your own funcion to calculate the median. You can call the `median()` function in your function."
   ]
  },
  {
   "cell_type": "markdown",
   "id": "7b6057d2",
   "metadata": {},
   "source": [
    "#### 3.7 (5 points) Normalize all features in `data1`. Name the new data frame `data5`."
   ]
  },
  {
   "cell_type": "markdown",
   "id": "43c95965",
   "metadata": {},
   "source": [
    "#### 3.8 (5 points) Calculate and save the norm of each observation. Then, calculate the mean and the variance of those norms in order to verify that the norms are all equal to 1.\n",
    "Hints:\n",
    "* You need to convert `data5` to a data frame using `pd.DataFrame`.\n",
    "* You may use the `apply` function to calculate the norms.\n",
    "* By default, `apply` loops across columns of a data frame. So, to use it correctly in this data frame, you need to first transpose `data5` using the dot function `.T` and save the transposed data frame as `data6`. "
   ]
  },
  {
   "cell_type": "markdown",
   "id": "7fd0d547",
   "metadata": {},
   "source": [
    "### Q4. (10 points) Imputing missing values\n",
    "There is no missing value in the dataset. To practice imputing missing values, we will manually change a value to `np.nan`. To make it very obvious, we will do it to the first observation. "
   ]
  },
  {
   "cell_type": "code",
   "execution_count": 5,
   "id": "b35b62db",
   "metadata": {},
   "outputs": [],
   "source": [
    "import numpy as np\n",
    "data_miss = data\n",
    "data_miss['Education Level'].iloc[0] = np.nan"
   ]
  },
  {
   "cell_type": "code",
   "execution_count": 6,
   "id": "5d272613",
   "metadata": {},
   "outputs": [
    {
     "data": {
      "text/plain": [
       "nan"
      ]
     },
     "execution_count": 6,
     "metadata": {},
     "output_type": "execute_result"
    }
   ],
   "source": [
    "data_miss.iloc[0,2]"
   ]
  },
  {
   "cell_type": "markdown",
   "id": "ec82a3bb",
   "metadata": {},
   "source": [
    "#### Use the most frequent value to impute this missing value.\n",
    "* Verify that it uses the most frequent value, `School`.\n",
    "* Compare it with the true value. Are they the same?"
   ]
  }
 ],
 "metadata": {
  "kernelspec": {
   "display_name": "Python 3 (ipykernel)",
   "language": "python",
   "name": "python3"
  },
  "language_info": {
   "codemirror_mode": {
    "name": "ipython",
    "version": 3
   },
   "file_extension": ".py",
   "mimetype": "text/x-python",
   "name": "python",
   "nbconvert_exporter": "python",
   "pygments_lexer": "ipython3",
   "version": "3.7.13"
  }
 },
 "nbformat": 4,
 "nbformat_minor": 5
}
